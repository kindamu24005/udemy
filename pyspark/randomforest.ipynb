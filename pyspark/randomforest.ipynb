{
 "cells": [
  {
   "cell_type": "markdown",
   "id": "e24316b1-e1fa-4335-8849-ef901188553b",
   "metadata": {},
   "source": [
    "# ランダムフォレストによる分類予測"
   ]
  },
  {
   "cell_type": "code",
   "execution_count": 1,
   "id": "5c1e82d7-77ff-4267-aad1-43efd1655822",
   "metadata": {},
   "outputs": [],
   "source": [
    "import pandas as pd\n",
    "import numpy as np"
   ]
  },
  {
   "cell_type": "code",
   "execution_count": 2,
   "id": "30de8112-e7f8-415d-9f4d-7bc7ba4612a0",
   "metadata": {},
   "outputs": [],
   "source": [
    "from pyspark.sql import SparkSession\n",
    "spark = SparkSession.builder.master(\"local\").appName(\"random_forest\").getOrCreate()"
   ]
  },
  {
   "cell_type": "code",
   "execution_count": 3,
   "id": "c1ef95b0-43e9-4220-ae05-9b97b0778cd0",
   "metadata": {},
   "outputs": [
    {
     "name": "stdout",
     "output_type": "stream",
     "text": [
      "+---+------------+--------+---------+-------+-------+-------+----+-------+---+-----+--------+--------+-----+--------+--------+---+\n",
      "|age|         job| marital|education|default|balance|housing|loan|contact|day|month|duration|campaign|pdays|previous|poutcome|  y|\n",
      "+---+------------+--------+---------+-------+-------+-------+----+-------+---+-----+--------+--------+-----+--------+--------+---+\n",
      "| 58|  management| married| tertiary|     no|   2143|    yes|  no|unknown|  5|  may|     261|       1|   -1|       0| unknown| no|\n",
      "| 44|  technician|  single|secondary|     no|     29|    yes|  no|unknown|  5|  may|     151|       1|   -1|       0| unknown| no|\n",
      "| 33|entrepreneur| married|secondary|     no|      2|    yes| yes|unknown|  5|  may|      76|       1|   -1|       0| unknown| no|\n",
      "| 47| blue-collar| married|  unknown|     no|   1506|    yes|  no|unknown|  5|  may|      92|       1|   -1|       0| unknown| no|\n",
      "| 33|     unknown|  single|  unknown|     no|      1|     no|  no|unknown|  5|  may|     198|       1|   -1|       0| unknown| no|\n",
      "| 35|  management| married| tertiary|     no|    231|    yes|  no|unknown|  5|  may|     139|       1|   -1|       0| unknown| no|\n",
      "| 28|  management|  single| tertiary|     no|    447|    yes| yes|unknown|  5|  may|     217|       1|   -1|       0| unknown| no|\n",
      "| 42|entrepreneur|divorced| tertiary|    yes|      2|    yes|  no|unknown|  5|  may|     380|       1|   -1|       0| unknown| no|\n",
      "| 58|     retired| married|  primary|     no|    121|    yes|  no|unknown|  5|  may|      50|       1|   -1|       0| unknown| no|\n",
      "| 43|  technician|  single|secondary|     no|    593|    yes|  no|unknown|  5|  may|      55|       1|   -1|       0| unknown| no|\n",
      "| 41|      admin.|divorced|secondary|     no|    270|    yes|  no|unknown|  5|  may|     222|       1|   -1|       0| unknown| no|\n",
      "| 29|      admin.|  single|secondary|     no|    390|    yes|  no|unknown|  5|  may|     137|       1|   -1|       0| unknown| no|\n",
      "| 53|  technician| married|secondary|     no|      6|    yes|  no|unknown|  5|  may|     517|       1|   -1|       0| unknown| no|\n",
      "| 58|  technician| married|  unknown|     no|     71|    yes|  no|unknown|  5|  may|      71|       1|   -1|       0| unknown| no|\n",
      "| 57|    services| married|secondary|     no|    162|    yes|  no|unknown|  5|  may|     174|       1|   -1|       0| unknown| no|\n",
      "| 51|     retired| married|  primary|     no|    229|    yes|  no|unknown|  5|  may|     353|       1|   -1|       0| unknown| no|\n",
      "| 45|      admin.|  single|  unknown|     no|     13|    yes|  no|unknown|  5|  may|      98|       1|   -1|       0| unknown| no|\n",
      "| 57| blue-collar| married|  primary|     no|     52|    yes|  no|unknown|  5|  may|      38|       1|   -1|       0| unknown| no|\n",
      "| 60|     retired| married|  primary|     no|     60|    yes|  no|unknown|  5|  may|     219|       1|   -1|       0| unknown| no|\n",
      "| 33|    services| married|secondary|     no|      0|    yes|  no|unknown|  5|  may|      54|       1|   -1|       0| unknown| no|\n",
      "+---+------------+--------+---------+-------+-------+-------+----+-------+---+-----+--------+--------+-----+--------+--------+---+\n",
      "only showing top 20 rows\n",
      "\n"
     ]
    }
   ],
   "source": [
    "filename = \"./data/bank/bank-full.csv\"\n",
    "data = spark.read.csv(filename, header=True, inferSchema=True, sep=\";\")\n",
    "data.show()"
   ]
  },
  {
   "cell_type": "code",
   "execution_count": 4,
   "id": "a49d3b49-78a1-4beb-a4f9-187a6d8714c6",
   "metadata": {},
   "outputs": [],
   "source": [
    "#string -> index\n",
    "from pyspark.ml.feature import StringIndexer\n",
    "default_index = StringIndexer(inputCol=\"default\", outputCol=\"default_index\")\n",
    "data1 = default_index.fit(data).transform(data)"
   ]
  },
  {
   "cell_type": "code",
   "execution_count": 5,
   "id": "5cbc945a-e602-43f5-b870-7cd8a2f6ff2b",
   "metadata": {},
   "outputs": [
    {
     "name": "stdout",
     "output_type": "stream",
     "text": [
      "+---+------------+--------+---------+-------+-------+-------+----+-------+---+-----+--------+--------+-----+--------+--------+---+-------------+\n",
      "|age|         job| marital|education|default|balance|housing|loan|contact|day|month|duration|campaign|pdays|previous|poutcome|  y|default_index|\n",
      "+---+------------+--------+---------+-------+-------+-------+----+-------+---+-----+--------+--------+-----+--------+--------+---+-------------+\n",
      "| 58|  management| married| tertiary|     no|   2143|    yes|  no|unknown|  5|  may|     261|       1|   -1|       0| unknown| no|          0.0|\n",
      "| 44|  technician|  single|secondary|     no|     29|    yes|  no|unknown|  5|  may|     151|       1|   -1|       0| unknown| no|          0.0|\n",
      "| 33|entrepreneur| married|secondary|     no|      2|    yes| yes|unknown|  5|  may|      76|       1|   -1|       0| unknown| no|          0.0|\n",
      "| 47| blue-collar| married|  unknown|     no|   1506|    yes|  no|unknown|  5|  may|      92|       1|   -1|       0| unknown| no|          0.0|\n",
      "| 33|     unknown|  single|  unknown|     no|      1|     no|  no|unknown|  5|  may|     198|       1|   -1|       0| unknown| no|          0.0|\n",
      "| 35|  management| married| tertiary|     no|    231|    yes|  no|unknown|  5|  may|     139|       1|   -1|       0| unknown| no|          0.0|\n",
      "| 28|  management|  single| tertiary|     no|    447|    yes| yes|unknown|  5|  may|     217|       1|   -1|       0| unknown| no|          0.0|\n",
      "| 42|entrepreneur|divorced| tertiary|    yes|      2|    yes|  no|unknown|  5|  may|     380|       1|   -1|       0| unknown| no|          1.0|\n",
      "| 58|     retired| married|  primary|     no|    121|    yes|  no|unknown|  5|  may|      50|       1|   -1|       0| unknown| no|          0.0|\n",
      "| 43|  technician|  single|secondary|     no|    593|    yes|  no|unknown|  5|  may|      55|       1|   -1|       0| unknown| no|          0.0|\n",
      "| 41|      admin.|divorced|secondary|     no|    270|    yes|  no|unknown|  5|  may|     222|       1|   -1|       0| unknown| no|          0.0|\n",
      "| 29|      admin.|  single|secondary|     no|    390|    yes|  no|unknown|  5|  may|     137|       1|   -1|       0| unknown| no|          0.0|\n",
      "| 53|  technician| married|secondary|     no|      6|    yes|  no|unknown|  5|  may|     517|       1|   -1|       0| unknown| no|          0.0|\n",
      "| 58|  technician| married|  unknown|     no|     71|    yes|  no|unknown|  5|  may|      71|       1|   -1|       0| unknown| no|          0.0|\n",
      "| 57|    services| married|secondary|     no|    162|    yes|  no|unknown|  5|  may|     174|       1|   -1|       0| unknown| no|          0.0|\n",
      "| 51|     retired| married|  primary|     no|    229|    yes|  no|unknown|  5|  may|     353|       1|   -1|       0| unknown| no|          0.0|\n",
      "| 45|      admin.|  single|  unknown|     no|     13|    yes|  no|unknown|  5|  may|      98|       1|   -1|       0| unknown| no|          0.0|\n",
      "| 57| blue-collar| married|  primary|     no|     52|    yes|  no|unknown|  5|  may|      38|       1|   -1|       0| unknown| no|          0.0|\n",
      "| 60|     retired| married|  primary|     no|     60|    yes|  no|unknown|  5|  may|     219|       1|   -1|       0| unknown| no|          0.0|\n",
      "| 33|    services| married|secondary|     no|      0|    yes|  no|unknown|  5|  may|      54|       1|   -1|       0| unknown| no|          0.0|\n",
      "+---+------------+--------+---------+-------+-------+-------+----+-------+---+-----+--------+--------+-----+--------+--------+---+-------------+\n",
      "only showing top 20 rows\n",
      "\n"
     ]
    }
   ],
   "source": [
    "data1.show()"
   ]
  },
  {
   "cell_type": "code",
   "execution_count": 7,
   "id": "e30ce197-9cab-495c-8b28-94dda8b0129f",
   "metadata": {},
   "outputs": [
    {
     "name": "stdout",
     "output_type": "stream",
     "text": [
      "+---+------------+--------+---------+-------+-------+-------+----+-------+---+-----+--------+--------+-----+--------+--------+---+-------------+---+\n",
      "|age|         job| marital|education|default|balance|housing|loan|contact|day|month|duration|campaign|pdays|previous|poutcome|  y|default_index| y1|\n",
      "+---+------------+--------+---------+-------+-------+-------+----+-------+---+-----+--------+--------+-----+--------+--------+---+-------------+---+\n",
      "| 58|  management| married| tertiary|     no|   2143|    yes|  no|unknown|  5|  may|     261|       1|   -1|       0| unknown| no|          0.0|0.0|\n",
      "| 44|  technician|  single|secondary|     no|     29|    yes|  no|unknown|  5|  may|     151|       1|   -1|       0| unknown| no|          0.0|0.0|\n",
      "| 33|entrepreneur| married|secondary|     no|      2|    yes| yes|unknown|  5|  may|      76|       1|   -1|       0| unknown| no|          0.0|0.0|\n",
      "| 47| blue-collar| married|  unknown|     no|   1506|    yes|  no|unknown|  5|  may|      92|       1|   -1|       0| unknown| no|          0.0|0.0|\n",
      "| 33|     unknown|  single|  unknown|     no|      1|     no|  no|unknown|  5|  may|     198|       1|   -1|       0| unknown| no|          0.0|0.0|\n",
      "| 35|  management| married| tertiary|     no|    231|    yes|  no|unknown|  5|  may|     139|       1|   -1|       0| unknown| no|          0.0|0.0|\n",
      "| 28|  management|  single| tertiary|     no|    447|    yes| yes|unknown|  5|  may|     217|       1|   -1|       0| unknown| no|          0.0|0.0|\n",
      "| 42|entrepreneur|divorced| tertiary|    yes|      2|    yes|  no|unknown|  5|  may|     380|       1|   -1|       0| unknown| no|          1.0|0.0|\n",
      "| 58|     retired| married|  primary|     no|    121|    yes|  no|unknown|  5|  may|      50|       1|   -1|       0| unknown| no|          0.0|0.0|\n",
      "| 43|  technician|  single|secondary|     no|    593|    yes|  no|unknown|  5|  may|      55|       1|   -1|       0| unknown| no|          0.0|0.0|\n",
      "| 41|      admin.|divorced|secondary|     no|    270|    yes|  no|unknown|  5|  may|     222|       1|   -1|       0| unknown| no|          0.0|0.0|\n",
      "| 29|      admin.|  single|secondary|     no|    390|    yes|  no|unknown|  5|  may|     137|       1|   -1|       0| unknown| no|          0.0|0.0|\n",
      "| 53|  technician| married|secondary|     no|      6|    yes|  no|unknown|  5|  may|     517|       1|   -1|       0| unknown| no|          0.0|0.0|\n",
      "| 58|  technician| married|  unknown|     no|     71|    yes|  no|unknown|  5|  may|      71|       1|   -1|       0| unknown| no|          0.0|0.0|\n",
      "| 57|    services| married|secondary|     no|    162|    yes|  no|unknown|  5|  may|     174|       1|   -1|       0| unknown| no|          0.0|0.0|\n",
      "| 51|     retired| married|  primary|     no|    229|    yes|  no|unknown|  5|  may|     353|       1|   -1|       0| unknown| no|          0.0|0.0|\n",
      "| 45|      admin.|  single|  unknown|     no|     13|    yes|  no|unknown|  5|  may|      98|       1|   -1|       0| unknown| no|          0.0|0.0|\n",
      "| 57| blue-collar| married|  primary|     no|     52|    yes|  no|unknown|  5|  may|      38|       1|   -1|       0| unknown| no|          0.0|0.0|\n",
      "| 60|     retired| married|  primary|     no|     60|    yes|  no|unknown|  5|  may|     219|       1|   -1|       0| unknown| no|          0.0|0.0|\n",
      "| 33|    services| married|secondary|     no|      0|    yes|  no|unknown|  5|  may|      54|       1|   -1|       0| unknown| no|          0.0|0.0|\n",
      "+---+------------+--------+---------+-------+-------+-------+----+-------+---+-----+--------+--------+-----+--------+--------+---+-------------+---+\n",
      "only showing top 20 rows\n",
      "\n"
     ]
    }
   ],
   "source": [
    "#目的変数\n",
    "from pyspark.sql.functions import lit, when, col\n",
    "data2 = data1.withColumn(\"y1\", when(col(\"y\")==\"yes\", lit(1.0)).otherwise(lit(0.0)))\n",
    "data2.show()"
   ]
  },
  {
   "cell_type": "code",
   "execution_count": 8,
   "id": "3e9ff4c3-722e-4b88-af99-39395b31c387",
   "metadata": {},
   "outputs": [],
   "source": [
    "use_df = data2.select([\"age\",\"balance\",\"day\",\"duration\",\"campaign\",\"pdays\",\"previous\",\"default_index\",\"y1\"])"
   ]
  },
  {
   "cell_type": "code",
   "execution_count": 9,
   "id": "10711835-d441-4807-abc8-3c05c8b3d51b",
   "metadata": {},
   "outputs": [],
   "source": [
    "target = \"y1\"\n",
    "features = use_df.columns"
   ]
  },
  {
   "cell_type": "code",
   "execution_count": 10,
   "id": "3a5485af-3ebf-452d-a768-e94f42b5dc52",
   "metadata": {},
   "outputs": [],
   "source": [
    "features.remove(target)"
   ]
  },
  {
   "cell_type": "code",
   "execution_count": 11,
   "id": "568c9ffc-0c2b-4cc6-818f-cd275b1d9017",
   "metadata": {},
   "outputs": [],
   "source": [
    "#データ作成（assembler）\n",
    "from pyspark.ml.feature import VectorAssembler\n",
    "assemble = VectorAssembler(inputCols=features, outputCol=\"features\")\n",
    "df = assemble.transform(use_df)"
   ]
  },
  {
   "cell_type": "code",
   "execution_count": 13,
   "id": "2b58331a-d99c-4eb2-8f2e-d7db403f2245",
   "metadata": {},
   "outputs": [
    {
     "name": "stdout",
     "output_type": "stream",
     "text": [
      "+---+-------+---+--------+--------+-----+--------+-------------+---+--------------------+\n",
      "|age|balance|day|duration|campaign|pdays|previous|default_index| y1|            features|\n",
      "+---+-------+---+--------+--------+-----+--------+-------------+---+--------------------+\n",
      "| 58|   2143|  5|     261|       1|   -1|       0|          0.0|0.0|[58.0,2143.0,5.0,...|\n",
      "| 44|     29|  5|     151|       1|   -1|       0|          0.0|0.0|[44.0,29.0,5.0,15...|\n",
      "| 33|      2|  5|      76|       1|   -1|       0|          0.0|0.0|[33.0,2.0,5.0,76....|\n",
      "| 47|   1506|  5|      92|       1|   -1|       0|          0.0|0.0|[47.0,1506.0,5.0,...|\n",
      "| 33|      1|  5|     198|       1|   -1|       0|          0.0|0.0|[33.0,1.0,5.0,198...|\n",
      "| 35|    231|  5|     139|       1|   -1|       0|          0.0|0.0|[35.0,231.0,5.0,1...|\n",
      "| 28|    447|  5|     217|       1|   -1|       0|          0.0|0.0|[28.0,447.0,5.0,2...|\n",
      "| 42|      2|  5|     380|       1|   -1|       0|          1.0|0.0|[42.0,2.0,5.0,380...|\n",
      "| 58|    121|  5|      50|       1|   -1|       0|          0.0|0.0|[58.0,121.0,5.0,5...|\n",
      "| 43|    593|  5|      55|       1|   -1|       0|          0.0|0.0|[43.0,593.0,5.0,5...|\n",
      "| 41|    270|  5|     222|       1|   -1|       0|          0.0|0.0|[41.0,270.0,5.0,2...|\n",
      "| 29|    390|  5|     137|       1|   -1|       0|          0.0|0.0|[29.0,390.0,5.0,1...|\n",
      "| 53|      6|  5|     517|       1|   -1|       0|          0.0|0.0|[53.0,6.0,5.0,517...|\n",
      "| 58|     71|  5|      71|       1|   -1|       0|          0.0|0.0|[58.0,71.0,5.0,71...|\n",
      "| 57|    162|  5|     174|       1|   -1|       0|          0.0|0.0|[57.0,162.0,5.0,1...|\n",
      "| 51|    229|  5|     353|       1|   -1|       0|          0.0|0.0|[51.0,229.0,5.0,3...|\n",
      "| 45|     13|  5|      98|       1|   -1|       0|          0.0|0.0|[45.0,13.0,5.0,98...|\n",
      "| 57|     52|  5|      38|       1|   -1|       0|          0.0|0.0|[57.0,52.0,5.0,38...|\n",
      "| 60|     60|  5|     219|       1|   -1|       0|          0.0|0.0|[60.0,60.0,5.0,21...|\n",
      "| 33|      0|  5|      54|       1|   -1|       0|          0.0|0.0|[33.0,0.0,5.0,54....|\n",
      "+---+-------+---+--------+--------+-----+--------+-------------+---+--------------------+\n",
      "only showing top 20 rows\n",
      "\n"
     ]
    }
   ],
   "source": [
    "df.show()"
   ]
  },
  {
   "cell_type": "code",
   "execution_count": 14,
   "id": "503acc14-41a4-475d-97a7-5339facad28d",
   "metadata": {},
   "outputs": [],
   "source": [
    "train_df,test_df = df.randomSplit([0.7,0.3], seed=123)"
   ]
  },
  {
   "cell_type": "code",
   "execution_count": 17,
   "id": "8233f4ba-a611-4aee-9580-8d2d0b272ec1",
   "metadata": {},
   "outputs": [],
   "source": [
    "from pyspark.ml.classification import RandomForestClassifier\n",
    "clf = RandomForestClassifier(featuresCol=\"features\", labelCol=\"y1\", impurity=\"gini\")"
   ]
  },
  {
   "cell_type": "code",
   "execution_count": 18,
   "id": "4d357775-f8d0-4d41-85f0-9b642acf5dc6",
   "metadata": {},
   "outputs": [],
   "source": [
    "clf_model = clf.fit(train_df)"
   ]
  },
  {
   "cell_type": "code",
   "execution_count": 20,
   "id": "d049e194-f7d4-4c5b-aa8b-5d2d6a3f7ebc",
   "metadata": {},
   "outputs": [
    {
     "data": {
      "text/plain": [
       "[('age', 0.07829185062360579),\n",
       " ('balance', 0.015874221806690857),\n",
       " ('day', 0.028954095719478375),\n",
       " ('duration', 0.6708333232098248),\n",
       " ('campaign', 0.007682028345262678),\n",
       " ('pdays', 0.10332224001099277),\n",
       " ('previous', 0.09405949089954696),\n",
       " ('default_index', 0.000982749384597761)]"
      ]
     },
     "execution_count": 20,
     "metadata": {},
     "output_type": "execute_result"
    }
   ],
   "source": [
    "list(zip(features, clf_model.featureImportances))"
   ]
  },
  {
   "cell_type": "code",
   "execution_count": 21,
   "id": "b395a77e-b775-4929-93e9-06f24cd2d7a0",
   "metadata": {},
   "outputs": [],
   "source": [
    "pred_train = clf_model.transform(train_df)"
   ]
  },
  {
   "cell_type": "code",
   "execution_count": 22,
   "id": "2963e85d-b350-485b-9710-9a6161ce940c",
   "metadata": {},
   "outputs": [
    {
     "name": "stdout",
     "output_type": "stream",
     "text": [
      "+---+-------+---+--------+--------+-----+--------+-------------+---+--------------------+--------------------+--------------------+----------+\n",
      "|age|balance|day|duration|campaign|pdays|previous|default_index| y1|            features|       rawPrediction|         probability|prediction|\n",
      "+---+-------+---+--------+--------+-----+--------+-------------+---+--------------------+--------------------+--------------------+----------+\n",
      "| 18|      3| 25|     130|       2|   -1|       0|          0.0|1.0|[18.0,3.0,25.0,13...|[18.6869443601654...|[0.93434721800827...|       0.0|\n",
      "| 18|      5| 24|     143|       2|   -1|       0|          0.0|0.0|[18.0,5.0,24.0,14...|[18.6869443601654...|[0.93434721800827...|       0.0|\n",
      "| 18|    108|  8|     169|       1|   -1|       0|          0.0|1.0|[18.0,108.0,8.0,1...|[18.6613627676829...|[0.93306813838414...|       0.0|\n",
      "| 18|    108|  9|      92|       1|  183|       1|          0.0|1.0|[18.0,108.0,9.0,9...|[15.8450626497631...|[0.79225313248815...|       0.0|\n",
      "| 18|    108| 10|     167|       1|   -1|       0|          0.0|1.0|[18.0,108.0,10.0,...|[18.6613627676829...|[0.93306813838414...|       0.0|\n",
      "| 18|    348|  5|     443|       4|   -1|       0|          0.0|1.0|[18.0,348.0,5.0,4...|[18.4544772636547...|[0.92272386318273...|       0.0|\n",
      "| 18|    438|  1|     425|       1|   -1|       0|          0.0|0.0|[18.0,438.0,1.0,4...|[17.6840539849360...|[0.88420269924680...|       0.0|\n",
      "| 18|    608| 13|     210|       1|   93|       1|          0.0|1.0|[18.0,608.0,13.0,...|[12.5314228426117...|[0.62657114213058...|       0.0|\n",
      "| 18|   1944| 10|     122|       3|   -1|       0|          0.0|0.0|[18.0,1944.0,10.0...|[18.4447355918628...|[0.92223677959314...|       0.0|\n",
      "| 19|      4|  3|     114|       1|   -1|       0|          0.0|0.0|[19.0,4.0,3.0,114...|[18.6958933388764...|[0.93479466694382...|       0.0|\n",
      "| 19|     27|  5|      86|      12|   -1|       0|          0.0|0.0|[19.0,27.0,5.0,86...|[18.6308916964701...|[0.93154458482350...|       0.0|\n",
      "| 19|     55|  6|      89|       2|  193|       1|          0.0|0.0|[19.0,55.0,6.0,89...|[17.7016939536156...|[0.88508469768078...|       0.0|\n",
      "| 19|     56| 12|     246|       1|   -1|       0|          0.0|0.0|[19.0,56.0,12.0,2...|[18.6613627676829...|[0.93306813838414...|       0.0|\n",
      "| 19|     88|  8|     191|       1|   -1|       0|          0.0|0.0|[19.0,88.0,8.0,19...|[18.6613627676829...|[0.93306813838414...|       0.0|\n",
      "| 19|     96| 23|     106|       3|   -1|       0|          0.0|0.0|[19.0,96.0,23.0,1...|[18.6524137889720...|[0.93262068944860...|       0.0|\n",
      "| 19|    103| 10|     104|       2|   -1|       0|          0.0|1.0|[19.0,103.0,10.0,...|[18.6524137889720...|[0.93262068944860...|       0.0|\n",
      "| 19|    103| 15|      96|       2|   97|       2|          0.0|0.0|[19.0,103.0,15.0,...|[16.2582658296807...|[0.81291329148403...|       0.0|\n",
      "| 19|    108|  9|     273|       2|  182|       1|          0.0|1.0|[19.0,108.0,9.0,2...|[14.1948278072321...|[0.70974139036160...|       0.0|\n",
      "| 19|    108| 10|     168|       1|  182|       2|          0.0|1.0|[19.0,108.0,10.0,...|[15.4477272887126...|[0.77238636443563...|       0.0|\n",
      "| 19|    134| 27|     271|       2|   -1|       0|          0.0|1.0|[19.0,134.0,27.0,...|[18.6524137889720...|[0.93262068944860...|       0.0|\n",
      "+---+-------+---+--------+--------+-----+--------+-------------+---+--------------------+--------------------+--------------------+----------+\n",
      "only showing top 20 rows\n",
      "\n"
     ]
    }
   ],
   "source": [
    "pred_train.show()"
   ]
  },
  {
   "cell_type": "code",
   "execution_count": 24,
   "id": "3f6fe4bc-1ca0-49aa-ac62-c96214faebad",
   "metadata": {},
   "outputs": [
    {
     "data": {
      "text/plain": [
       "0.8436943746277701"
      ]
     },
     "execution_count": 24,
     "metadata": {},
     "output_type": "execute_result"
    }
   ],
   "source": [
    "from pyspark.ml.evaluation import BinaryClassificationEvaluator\n",
    "evaluator = BinaryClassificationEvaluator(labelCol=\"y1\")\n",
    "AUC = evaluator.evaluate(pred_train)\n",
    "AUC"
   ]
  },
  {
   "cell_type": "code",
   "execution_count": 25,
   "id": "b95bc9eb-7573-4014-b723-7d05c5cb6e70",
   "metadata": {},
   "outputs": [
    {
     "data": {
      "text/plain": [
       "DataFrame[age: int, balance: int, day: int, duration: int, campaign: int, pdays: int, previous: int, default_index: double, y1: double, features: vector, rawPrediction: vector, probability: vector, prediction: double]"
      ]
     },
     "execution_count": 25,
     "metadata": {},
     "output_type": "execute_result"
    }
   ],
   "source": [
    "pred_test = clf_model.transform(test_df)"
   ]
  },
  {
   "cell_type": "code",
   "execution_count": 26,
   "id": "cc8c7ac2-e9d7-4661-90b7-8ec5741b77b0",
   "metadata": {},
   "outputs": [
    {
     "name": "stdout",
     "output_type": "stream",
     "text": [
      "+---+-------+---+--------+--------+-----+--------+-------------+---+--------------------+--------------------+--------------------+----------+\n",
      "|age|balance|day|duration|campaign|pdays|previous|default_index| y1|            features|       rawPrediction|         probability|prediction|\n",
      "+---+-------+---+--------+--------+-----+--------+-------------+---+--------------------+--------------------+--------------------+----------+\n",
      "| 18|     35| 21|     104|       2|   -1|       0|          0.0|0.0|[18.0,35.0,21.0,1...|[18.6524137889720...|[0.93262068944860...|       0.0|\n",
      "| 18|    156|  4|     298|       2|   82|       4|          0.0|0.0|[18.0,156.0,4.0,2...|[12.2142420073303...|[0.61071210036651...|       0.0|\n",
      "| 18|    608| 12|     267|       1|   -1|       0|          0.0|1.0|[18.0,608.0,12.0,...|[18.6598140679283...|[0.93299070339641...|       0.0|\n",
      "| 19|      0|  4|      72|       4|   -1|       0|          0.0|0.0|[19.0,0.0,4.0,72....|[18.6869443601654...|[0.93434721800827...|       0.0|\n",
      "| 19|      0| 11|     123|       3|   -1|       0|          0.0|0.0|[19.0,0.0,11.0,12...|[18.6869443601654...|[0.93434721800827...|       0.0|\n",
      "| 19|     60| 14|     253|       1|   -1|       0|          0.0|0.0|[19.0,60.0,14.0,2...|[18.6613627676829...|[0.93306813838414...|       0.0|\n",
      "| 19|    103| 18|     177|       2|   95|       4|          0.0|0.0|[19.0,103.0,18.0,...|[16.5759345563897...|[0.82879672781948...|       0.0|\n",
      "| 19|    291|  5|     291|       5|   -1|       0|          0.0|0.0|[19.0,291.0,5.0,2...|[18.5963611252766...|[0.92981805626383...|       0.0|\n",
      "| 19|    302| 16|     205|       1|   -1|       0|          0.0|1.0|[19.0,302.0,16.0,...|[18.6613627676829...|[0.93306813838414...|       0.0|\n",
      "| 19|    372|  8|     444|       3|   -1|       0|          0.0|1.0|[19.0,372.0,8.0,4...|[18.4544772636547...|[0.92272386318273...|       0.0|\n",
      "| 19|    394|  5|     327|       3|   -1|       0|          0.0|1.0|[19.0,394.0,5.0,3...|[18.5577634926554...|[0.92788817463277...|       0.0|\n",
      "| 19|    424| 30|     121|       3|  195|       2|          0.0|0.0|[19.0,424.0,30.0,...|[17.0105177932549...|[0.85052588966274...|       0.0|\n",
      "| 19|    527|  4|     154|       3|   -1|       0|          0.0|0.0|[19.0,527.0,4.0,1...|[18.6524137889720...|[0.93262068944860...|       0.0|\n",
      "| 19|    626| 15|     117|       1|   -1|       0|          0.0|0.0|[19.0,626.0,15.0,...|[18.6598140679283...|[0.93299070339641...|       0.0|\n",
      "| 19|   5368|  4|      77|       6|   -1|       0|          0.0|0.0|[19.0,5368.0,4.0,...|[18.3844127429284...|[0.91922063714642...|       0.0|\n",
      "| 20|   -322| 20|      73|       4|   -1|       0|          0.0|0.0|[20.0,-322.0,20.0...|[18.6869443601654...|[0.93434721800827...|       0.0|\n",
      "| 20|     67| 19|     387|       1|   -1|       0|          0.0|0.0|[20.0,67.0,19.0,3...|[18.4634262423656...|[0.92317131211828...|       0.0|\n",
      "| 20|     88| 21|     621|       1|  181|       4|          0.0|0.0|[20.0,88.0,21.0,6...|[11.6533548919431...|[0.58266774459715...|       0.0|\n",
      "| 20|    130|  4|      75|       3|   -1|       0|          0.0|0.0|[20.0,130.0,4.0,7...|[18.6524137889720...|[0.93262068944860...|       0.0|\n",
      "| 20|    130| 11|      88|       1|   99|       3|          0.0|0.0|[20.0,130.0,11.0,...|[16.2582658296807...|[0.81291329148403...|       0.0|\n",
      "+---+-------+---+--------+--------+-----+--------+-------------+---+--------------------+--------------------+--------------------+----------+\n",
      "only showing top 20 rows\n",
      "\n"
     ]
    }
   ],
   "source": [
    "pred_test.show()"
   ]
  },
  {
   "cell_type": "code",
   "execution_count": 27,
   "id": "b297ffea-34d7-4bac-9236-cc784b2c2fdc",
   "metadata": {},
   "outputs": [
    {
     "data": {
      "text/plain": [
       "13676"
      ]
     },
     "execution_count": 27,
     "metadata": {},
     "output_type": "execute_result"
    }
   ],
   "source": [
    "pred_test.count()"
   ]
  },
  {
   "cell_type": "code",
   "execution_count": 28,
   "id": "b586819c-7ccb-49d9-8796-1983d1a61d3d",
   "metadata": {},
   "outputs": [
    {
     "data": {
      "text/plain": [
       "0.8407300905290438"
      ]
     },
     "execution_count": 28,
     "metadata": {},
     "output_type": "execute_result"
    }
   ],
   "source": [
    "from pyspark.ml.evaluation import BinaryClassificationEvaluator\n",
    "evaluator = BinaryClassificationEvaluator(labelCol=\"y1\")\n",
    "AUC = evaluator.evaluate(pred_test)\n",
    "AUC"
   ]
  },
  {
   "cell_type": "code",
   "execution_count": null,
   "id": "f830415c-345a-40e5-83da-ca3e166de0b1",
   "metadata": {},
   "outputs": [],
   "source": []
  }
 ],
 "metadata": {
  "kernelspec": {
   "display_name": "Python 3 (ipykernel)",
   "language": "python",
   "name": "python3"
  },
  "language_info": {
   "codemirror_mode": {
    "name": "ipython",
    "version": 3
   },
   "file_extension": ".py",
   "mimetype": "text/x-python",
   "name": "python",
   "nbconvert_exporter": "python",
   "pygments_lexer": "ipython3",
   "version": "3.10.5"
  }
 },
 "nbformat": 4,
 "nbformat_minor": 5
}
